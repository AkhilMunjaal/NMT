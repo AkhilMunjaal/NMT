{
 "cells": [
  {
   "cell_type": "code",
   "execution_count": 1,
   "metadata": {
    "tags": []
   },
   "outputs": [],
   "source": [
    "import tensorflow as tf\n",
    "from tensorflow import keras\n",
    "from keras import layers\n",
    "import pandas as pd\n",
    "import string\n",
    "from string import digits\n",
    "import re\n",
    "import numpy as np\n"
   ]
  },
  {
   "cell_type": "code",
   "execution_count": 2,
   "metadata": {
    "tags": []
   },
   "outputs": [],
   "source": [
    "# Using positional encoding to re-inject order information\n",
    "\n",
    "class PositionalEmbedding(layers.Layer):\n",
    "    def __init__(self, sequence_length, input_dim, output_dim, **kwargs):\n",
    "        super().__init__(**kwargs)\n",
    "        self.token_embeddings = layers.Embedding(\n",
    "            input_dim=input_dim, output_dim=output_dim)\n",
    "        self.position_embeddings = layers.Embedding(\n",
    "            input_dim=sequence_length, output_dim=output_dim)\n",
    "        self.sequence_length = sequence_length\n",
    "        self.input_dim = input_dim\n",
    "        self.output_dim = output_dim\n",
    "\n",
    "    def call(self, inputs):\n",
    "        length = tf.shape(inputs)[-1]\n",
    "        positions = tf.range(start=0, limit=length, delta=1)\n",
    "        embedded_tokens = self.token_embeddings(inputs)\n",
    "        embedded_positions = self.position_embeddings(positions)\n",
    "        return embedded_tokens + embedded_positions\n",
    "\n",
    "    def compute_mask(self, inputs, mask=None):\n",
    "        return tf.math.not_equal(inputs, 0)\n",
    "\n",
    "    def get_config(self):\n",
    "        config = super().get_config()\n",
    "        config.update({\n",
    "            \"output_dim\": self.output_dim,\n",
    "            \"sequence_length\": self.sequence_length,\n",
    "            \"input_dim\": self.input_dim,\n",
    "        })\n",
    "        return config"
   ]
  },
  {
   "cell_type": "code",
   "execution_count": 3,
   "metadata": {
    "tags": []
   },
   "outputs": [],
   "source": [
    "class TransformerEncoder(layers.Layer):\n",
    "    def __init__(self, embed_dim, dense_dim, num_heads, **kwargs):\n",
    "        super().__init__(**kwargs)\n",
    "        self.embed_dim = embed_dim    # Dimension of embedding\n",
    "        self.dense_dim = dense_dim    # No. of neurons in dense layer\n",
    "        self.num_heads = num_heads    # No. of heads for MultiHead Attention layer\n",
    "        self.attention = layers.MultiHeadAttention(   # MultiHead Attention layer\n",
    "            num_heads=num_heads, key_dim=embed_dim)\n",
    "        self.dense_proj = keras.Sequential(\n",
    "            [layers.Dense(dense_dim, activation=\"relu\"),\n",
    "             layers.Dense(embed_dim),]    # encoders are stacked on top of the other.\n",
    "        )\n",
    "        self.layernorm_1 = layers.LayerNormalization()\n",
    "        self.layernorm_2 = layers.LayerNormalization()\n",
    "\n",
    "    # Call function based on figure above\n",
    "    def call(self, inputs, mask=None):\n",
    "        if mask is not None:\n",
    "            mask = mask[:, tf.newaxis, :]\n",
    "        attention_output = self.attention(\n",
    "            inputs, inputs, attention_mask=mask)\n",
    "\n",
    "        proj_input = self.layernorm_1(inputs + attention_output)\n",
    "        proj_output = self.dense_proj(proj_input)\n",
    "        return self.layernorm_2(proj_input + proj_output)  # LayerNormalization + Residual connection\n",
    "\n",
    "    def get_config(self):\n",
    "        config = super().get_config()\n",
    "        config.update({\n",
    "            \"embed_dim\": self.embed_dim,\n",
    "            \"num_heads\": self.num_heads,\n",
    "            \"dense_dim\": self.dense_dim,\n",
    "        })\n",
    "        return config"
   ]
  },
  {
   "cell_type": "code",
   "execution_count": 4,
   "metadata": {
    "tags": []
   },
   "outputs": [],
   "source": [
    "class TransformerDecoder(layers.Layer):\n",
    "    def __init__(self, embed_dim, dense_dim, num_heads, **kwargs):\n",
    "        super().__init__(**kwargs)\n",
    "        self.embed_dim = embed_dim\n",
    "        self.dense_dim = dense_dim\n",
    "        self.num_heads = num_heads\n",
    "        # Now we have 2 MultiHead Attention layers - one for self attention and one for cross attention\n",
    "        self.attention_1 = layers.MultiHeadAttention(\n",
    "            num_heads=num_heads, key_dim=embed_dim)\n",
    "        self.attention_2 = layers.MultiHeadAttention(\n",
    "            num_heads=num_heads, key_dim=embed_dim)\n",
    "        self.dense_proj = keras.Sequential(\n",
    "            [layers.Dense(dense_dim, activation=\"relu\"),\n",
    "             layers.Dense(embed_dim),]\n",
    "        )\n",
    "        self.layernorm_1 = layers.LayerNormalization()\n",
    "        self.layernorm_2 = layers.LayerNormalization()\n",
    "        self.layernorm_3 = layers.LayerNormalization()\n",
    "        self.supports_masking = True\n",
    "\n",
    "    def get_config(self):\n",
    "        config = super().get_config()\n",
    "        config.update({\n",
    "            \"embed_dim\": self.embed_dim,\n",
    "            \"num_heads\": self.num_heads,\n",
    "            \"dense_dim\": self.dense_dim,\n",
    "        })\n",
    "        return config\n",
    "\n",
    "    def get_causal_attention_mask(self, inputs):\n",
    "        input_shape = tf.shape(inputs)\n",
    "        batch_size, sequence_length = input_shape[0], input_shape[1]\n",
    "        i = tf.range(sequence_length)[:, tf.newaxis]\n",
    "        j = tf.range(sequence_length)\n",
    "        mask = tf.cast(i >= j, dtype=\"int32\")\n",
    "        mask = tf.reshape(mask, (1, input_shape[1], input_shape[1])) # sequence_length == input_shape[1]\n",
    "        mult = tf.concat(\n",
    "            [tf.expand_dims(batch_size, -1),\n",
    "              tf.constant([1, 1], dtype=tf.int32)], axis=0)\n",
    "        return tf.tile(mask, mult)\n",
    "\n",
    "    def call(self, inputs, encoder_outputs, mask_=None): # two inputs: decoder i/p and encoder o/p\n",
    "        causal_mask = self.get_causal_attention_mask(inputs)\n",
    "        attention_output_1 = self.attention_1(    # Q: What kind of attention?\n",
    "            query=inputs,\n",
    "            value=inputs,\n",
    "            key=inputs,\n",
    "            attention_mask=causal_mask)\n",
    "        attention_output_1 = self.layernorm_1(inputs + attention_output_1)\n",
    "        attention_output_2 = self.attention_2(\n",
    "            query=attention_output_1,\n",
    "            value=encoder_outputs,\n",
    "            key=encoder_outputs\n",
    "        )\n",
    "\n",
    "        attention_output_2 = self.layernorm_2(\n",
    "            attention_output_1 + attention_output_2)\n",
    "        proj_output = self.dense_proj(attention_output_2)\n",
    "        return self.layernorm_3(attention_output_2 + proj_output)"
   ]
  },
  {
   "cell_type": "code",
   "execution_count": 5,
   "metadata": {
    "tags": []
   },
   "outputs": [
    {
     "name": "stderr",
     "output_type": "stream",
     "text": [
      "2023-12-04 10:21:51.333379: E tensorflow/compiler/xla/stream_executor/cuda/cuda_driver.cc:268] failed call to cuInit: CUDA_ERROR_NO_DEVICE: no CUDA-capable device is detected\n"
     ]
    },
    {
     "name": "stdout",
     "output_type": "stream",
     "text": [
      "Model: \"model\"\n",
      "__________________________________________________________________________________________________\n",
      " Layer (type)                Output Shape                 Param #   Connected to                  \n",
      "==================================================================================================\n",
      " english (InputLayer)        [(None, None)]               0         []                            \n",
      "                                                                                                  \n",
      " hindi (InputLayer)          [(None, None)]               0         []                            \n",
      "                                                                                                  \n",
      " positional_embedding (Posi  (None, None, 512)            1025536   ['english[0][0]']             \n",
      " tionalEmbedding)                                         0                                       \n",
      "                                                                                                  \n",
      " positional_embedding_1 (Po  (None, None, 512)            1025536   ['hindi[0][0]']               \n",
      " sitionalEmbedding)                                       0                                       \n",
      "                                                                                                  \n",
      " transformer_encoder (Trans  (None, None, 512)            1050316   ['positional_embedding[0][0]']\n",
      " formerEncoder)                                           8                                       \n",
      "                                                                                                  \n",
      " transformer_decoder (Trans  (None, None, 512)            1890560   ['positional_embedding_1[0][0]\n",
      " formerDecoder)                                           0         ',                            \n",
      "                                                                     'transformer_encoder[0][0]'] \n",
      "                                                                                                  \n",
      " dropout (Dropout)           (None, None, 512)            0         ['transformer_decoder[0][0]'] \n",
      "                                                                                                  \n",
      " dense_4 (Dense)             (None, None, 20000)          1026000   ['dropout[0][0]']             \n",
      "                                                          0                                       \n",
      "                                                                                                  \n",
      "==================================================================================================\n",
      "Total params: 60179488 (229.57 MB)\n",
      "Trainable params: 60179488 (229.57 MB)\n",
      "Non-trainable params: 0 (0.00 Byte)\n",
      "__________________________________________________________________________________________________\n"
     ]
    }
   ],
   "source": [
    "embed_dim = 512\n",
    "dense_dim = 2048\n",
    "num_heads = 8\n",
    "vocab_size = 20000\n",
    "sequence_length = 30\n",
    "batch_size = 64\n",
    "\n",
    "encoder_inputs = keras.Input(shape=(None,), dtype=\"int64\", name=\"english\")\n",
    "x = PositionalEmbedding(sequence_length, vocab_size, embed_dim)(encoder_inputs)\n",
    "encoder_outputs = TransformerEncoder(embed_dim, dense_dim, num_heads)(x)\n",
    "\n",
    "decoder_inputs = keras.Input(shape=(None,), dtype=\"int64\", name=\"hindi\")\n",
    "x = PositionalEmbedding(sequence_length, vocab_size, embed_dim)(decoder_inputs)\n",
    "x = TransformerDecoder(embed_dim, dense_dim, num_heads)(x, encoder_outputs,mask_=None)\n",
    "\n",
    "x = layers.Dropout(0.5)(x)\n",
    "decoder_outputs = layers.Dense(vocab_size, activation=\"softmax\")(x)\n",
    "transformer = keras.Model([encoder_inputs, decoder_inputs], decoder_outputs)\n",
    "transformer.summary()"
   ]
  },
  {
   "cell_type": "code",
   "execution_count": null,
   "metadata": {},
   "outputs": [],
   "source": []
  },
  {
   "cell_type": "markdown",
   "metadata": {
    "id": "B0Y2NmDV7lF6"
   },
   "source": [
    "## Preparing the data"
   ]
  },
  {
   "cell_type": "code",
   "execution_count": 36,
   "metadata": {
    "tags": []
   },
   "outputs": [],
   "source": [
    "df = pd.read_csv(\"Hindi_English_Truncated_Corpus.csv\",encoding='utf-8')\n",
    "df.dropna(inplace=True)"
   ]
  },
  {
   "cell_type": "code",
   "execution_count": 37,
   "metadata": {
    "tags": []
   },
   "outputs": [],
   "source": [
    "def clean_dataset_rows(df):\n",
    "    df['english_sentence'] = df['english_sentence'].apply(lambda x: x.lower())\n",
    "    df['hindi_sentence'] = df['hindi_sentence'].apply(lambda x: x.lower())\n",
    "\n",
    "    exclude = set(string.punctuation) # Set of all special characters\n",
    "    df['english_sentence'] = df['english_sentence'].apply(lambda x: ''.join(ch for ch in x if ch not in exclude))\n",
    "    df['hindi_sentence'] = df['hindi_sentence'].apply(lambda x: ''.join(ch for ch in x if ch not in exclude))\n",
    "\n",
    "    remove_digits = str.maketrans('', '', digits)\n",
    "    df['english_sentence'] = df['english_sentence'].apply(lambda x: x.translate(remove_digits))\n",
    "    df['hindi_sentence'] = df['hindi_sentence'].apply(lambda x: x.translate(remove_digits))\n",
    "    df['hindi_sentence'] = df['hindi_sentence'].apply(lambda x: re.sub(\"[२३०८१५७९४६]\", \"\", x))\n",
    "\n",
    "    # Remove extra hindices\n",
    "    df['english_sentence'] = df['english_sentence'].apply(lambda x: x.strip())\n",
    "    df['hindi_sentence'] = df['hindi_sentence'].apply(lambda x: x.strip())\n",
    "    \n",
    "    df['length_eng_sentence']=df['english_sentence'].apply(lambda x:len(x.split(\" \")))\n",
    "    df['length_hin_sentence']=df['hindi_sentence'].apply(lambda x:len(x.split(\" \")))\n",
    "    return df"
   ]
  },
  {
   "cell_type": "code",
   "execution_count": 38,
   "metadata": {
    "tags": []
   },
   "outputs": [],
   "source": [
    "df = clean_dataset_rows(df)"
   ]
  },
  {
   "cell_type": "code",
   "execution_count": 39,
   "metadata": {
    "tags": []
   },
   "outputs": [
    {
     "data": {
      "text/plain": [
       "(127605, 5)"
      ]
     },
     "execution_count": 39,
     "metadata": {},
     "output_type": "execute_result"
    }
   ],
   "source": [
    "df.shape"
   ]
  },
  {
   "cell_type": "code",
   "execution_count": 40,
   "metadata": {
    "tags": []
   },
   "outputs": [
    {
     "data": {
      "text/html": [
       "<div>\n",
       "<style scoped>\n",
       "    .dataframe tbody tr th:only-of-type {\n",
       "        vertical-align: middle;\n",
       "    }\n",
       "\n",
       "    .dataframe tbody tr th {\n",
       "        vertical-align: top;\n",
       "    }\n",
       "\n",
       "    .dataframe thead th {\n",
       "        text-align: right;\n",
       "    }\n",
       "</style>\n",
       "<table border=\"1\" class=\"dataframe\">\n",
       "  <thead>\n",
       "    <tr style=\"text-align: right;\">\n",
       "      <th></th>\n",
       "      <th>source</th>\n",
       "      <th>english_sentence</th>\n",
       "      <th>hindi_sentence</th>\n",
       "      <th>length_eng_sentence</th>\n",
       "      <th>length_hin_sentence</th>\n",
       "    </tr>\n",
       "  </thead>\n",
       "  <tbody>\n",
       "    <tr>\n",
       "      <th>0</th>\n",
       "      <td>ted</td>\n",
       "      <td>politicians do not have permission to do what ...</td>\n",
       "      <td>राजनीतिज्ञों के पास जो कार्य करना चाहिए वह करन...</td>\n",
       "      <td>12</td>\n",
       "      <td>13</td>\n",
       "    </tr>\n",
       "    <tr>\n",
       "      <th>1</th>\n",
       "      <td>ted</td>\n",
       "      <td>id like to tell you about one such child</td>\n",
       "      <td>मई आपको ऐसे ही एक बच्चे के बारे में बताना चाहूंगी</td>\n",
       "      <td>9</td>\n",
       "      <td>11</td>\n",
       "    </tr>\n",
       "  </tbody>\n",
       "</table>\n",
       "</div>"
      ],
      "text/plain": [
       "  source                                   english_sentence  \\\n",
       "0    ted  politicians do not have permission to do what ...   \n",
       "1    ted           id like to tell you about one such child   \n",
       "\n",
       "                                      hindi_sentence  length_eng_sentence  \\\n",
       "0  राजनीतिज्ञों के पास जो कार्य करना चाहिए वह करन...                   12   \n",
       "1  मई आपको ऐसे ही एक बच्चे के बारे में बताना चाहूंगी                    9   \n",
       "\n",
       "   length_hin_sentence  \n",
       "0                   13  \n",
       "1                   11  "
      ]
     },
     "execution_count": 40,
     "metadata": {},
     "output_type": "execute_result"
    }
   ],
   "source": [
    "df.head(2)"
   ]
  },
  {
   "cell_type": "code",
   "execution_count": 41,
   "metadata": {
    "tags": []
   },
   "outputs": [
    {
     "data": {
      "text/plain": [
       "418"
      ]
     },
     "execution_count": 41,
     "metadata": {},
     "output_type": "execute_result"
    }
   ],
   "source": [
    "df['length_hin_sentence'].max()"
   ]
  },
  {
   "cell_type": "code",
   "execution_count": 42,
   "metadata": {
    "tags": []
   },
   "outputs": [
    {
     "data": {
      "text/plain": [
       "398"
      ]
     },
     "execution_count": 42,
     "metadata": {},
     "output_type": "execute_result"
    }
   ],
   "source": [
    "df['length_eng_sentence'].max()"
   ]
  },
  {
   "cell_type": "code",
   "execution_count": 46,
   "metadata": {
    "tags": []
   },
   "outputs": [
    {
     "data": {
      "text/plain": [
       "398"
      ]
     },
     "execution_count": 46,
     "metadata": {},
     "output_type": "execute_result"
    }
   ],
   "source": [
    "x = df[df['source']=='indic2012']\n",
    "x['length_eng_sentence'].max()"
   ]
  },
  {
   "cell_type": "code",
   "execution_count": 47,
   "metadata": {
    "tags": []
   },
   "outputs": [
    {
     "data": {
      "text/plain": [
       "418"
      ]
     },
     "execution_count": 47,
     "metadata": {},
     "output_type": "execute_result"
    }
   ],
   "source": [
    "x['length_hin_sentence'].max()"
   ]
  },
  {
   "cell_type": "code",
   "execution_count": 16,
   "metadata": {
    "colab": {
     "base_uri": "https://localhost:8080/"
    },
    "id": "Nxxtnbv9D2-u",
    "outputId": "cced0084-5a8e-48d3-ede1-30b551a400f7",
    "tags": []
   },
   "outputs": [
    {
     "name": "stdout",
     "output_type": "stream",
     "text": [
      "('all powered on that coal', '[start] साब कोयले की ताकत पे खड़े हुए [end]')\n",
      "no. of pairs: 39881\n"
     ]
    }
   ],
   "source": [
    "# pre-processing. Separating input and output sequences\n",
    "\n",
    "text_pairs = []\n",
    "for _, row in df.iterrows():\n",
    "    english = row['english_sentence']\n",
    "    hindi = row['hindi_sentence']\n",
    "    hindi = \"[start] \" + hindi + \" [end]\"\n",
    "    text_pairs.append((english, hindi))\n",
    "\n",
    "import random\n",
    "print(random.choice(text_pairs))\n",
    "print(f\"no. of pairs: {len(text_pairs)}\")"
   ]
  },
  {
   "cell_type": "code",
   "execution_count": 17,
   "metadata": {
    "id": "mcybUiQTD3Az",
    "tags": []
   },
   "outputs": [],
   "source": [
    "#splitting data\n",
    "random.shuffle(text_pairs)\n",
    "num_val_samples = int(0.15 * len(text_pairs))\n",
    "num_train_samples = len(text_pairs) - 2 * num_val_samples\n",
    "train_pairs = text_pairs[:num_train_samples]\n",
    "val_pairs = text_pairs[num_train_samples:num_train_samples + num_val_samples]\n",
    "test_pairs = text_pairs[num_train_samples + num_val_samples:]"
   ]
  },
  {
   "cell_type": "code",
   "execution_count": 18,
   "metadata": {
    "colab": {
     "base_uri": "https://localhost:8080/"
    },
    "id": "hj9HjcGE7h4N",
    "outputId": "d9c888a3-e7b3-4a7f-f94d-898152820c9b",
    "tags": []
   },
   "outputs": [
    {
     "name": "stdout",
     "output_type": "stream",
     "text": [
      "!\"#$%&'()*+,-./:;<=>?@[\\]^_`{|}~\n"
     ]
    }
   ],
   "source": [
    "print(string.punctuation)"
   ]
  },
  {
   "cell_type": "code",
   "execution_count": 19,
   "metadata": {
    "id": "kBc6EItWD3C3",
    "tags": []
   },
   "outputs": [],
   "source": [
    "# Vectorizing the English and Hindi text pairs\n",
    "\n",
    "strip_chars = string.punctuation \n",
    "strip_chars = strip_chars.replace(\"[\", \"\")\n",
    "strip_chars = strip_chars.replace(\"]\", \"\")\n",
    "\n",
    "# Custom standardization function for hindi\n",
    "def custom_standardization(input_string):\n",
    "    lowercase = tf.strings.lower(input_string)\n",
    "    return tf.strings.regex_replace(    # Replace elements of input matching regex pattern with rewrite.\n",
    "        lowercase, f\"[{re.escape(strip_chars)}]\", \"\")\n",
    "\n",
    "source_vectorization = layers.TextVectorization(\n",
    "    max_tokens=vocab_size,\n",
    "    output_mode=\"int\",\n",
    "    output_sequence_length=sequence_length,\n",
    ")\n",
    "target_vectorization = layers.TextVectorization(\n",
    "    max_tokens=vocab_size,\n",
    "    output_mode=\"int\",\n",
    "    output_sequence_length=sequence_length + 1,\n",
    "    standardize=custom_standardization,\n",
    ")\n",
    "train_english_texts = [pair[0] for pair in train_pairs]\n",
    "train_hindi_texts = [pair[1] for pair in train_pairs]\n",
    "source_vectorization.adapt(train_english_texts)\n",
    "target_vectorization.adapt(train_hindi_texts)\n"
   ]
  },
  {
   "cell_type": "code",
   "execution_count": 21,
   "metadata": {
    "id": "JMicSLvGD3E_",
    "tags": []
   },
   "outputs": [],
   "source": [
    "def format_dataset(eng, hindi):\n",
    "    eng = source_vectorization(eng)\n",
    "    hindi = target_vectorization(hindi)\n",
    "    return ({\n",
    "        \"english\": eng,           # encoder input\n",
    "        \"hindi\": hindi[:, :-1],    # decoder input Q: what is the first axis?\n",
    "    }, hindi[:, 1:])                  # decoder ouput\n",
    "\n",
    "\n",
    "def make_dataset(pairs):\n",
    "    eng_texts, hindi_texts = zip(*pairs)\n",
    "    eng_texts = list(eng_texts)\n",
    "    hindi_texts = list(hindi_texts)\n",
    "    dataset = tf.data.Dataset.from_tensor_slices((eng_texts, hindi_texts))\n",
    "    dataset = dataset.batch(batch_size)\n",
    "    dataset = dataset.map(format_dataset, num_parallel_calls=4)\n",
    "    return dataset.shuffle(2048).prefetch(16).cache() #Use in-memory caching to speed up preprocessing.\n",
    "\n",
    "\n",
    "train_ds = make_dataset(train_pairs)\n",
    "val_ds = make_dataset(val_pairs)"
   ]
  },
  {
   "cell_type": "code",
   "execution_count": 22,
   "metadata": {
    "colab": {
     "base_uri": "https://localhost:8080/"
    },
    "id": "4A2wVFs8Epoy",
    "outputId": "dcf30a36-ee29-4885-e3b5-d51448c86ea5",
    "tags": []
   },
   "outputs": [
    {
     "name": "stdout",
     "output_type": "stream",
     "text": [
      "inputs['english'].shape: (64, 30)\n",
      "inputs['hindi'].shape: (64, 30)\n",
      "targets.shape: (64, 30)\n",
      "tf.Tensor(\n",
      "[    5    21   144  3615 14815     3     0     0     0     0     0     0\n",
      "     0     0     0     0     0     0     0     0     0     0     0     0\n",
      "     0     0     0     0     0     0], shape=(30,), dtype=int64)\n",
      "tf.Tensor(\n",
      "[  95    9   91    6 4171    0    0    0    0    0    0    0    0    0\n",
      "    0    0    0    0    0    0    0    0    0    0    0    0    0    0\n",
      "    0    0], shape=(30,), dtype=int64)\n"
     ]
    }
   ],
   "source": [
    "for inputs, targets in train_ds.take(1):\n",
    "    print(f\"inputs['english'].shape: {inputs['english'].shape}\")\n",
    "    print(f\"inputs['hindi'].shape: {inputs['hindi'].shape}\")\n",
    "    print(f\"targets.shape: {targets.shape}\")\n",
    "    print(targets[3])\n",
    "    print(inputs['english'][3])"
   ]
  },
  {
   "cell_type": "markdown",
   "metadata": {
    "id": "54BdC0gg7pQS"
   },
   "source": [
    "## Traning and evaluating the model"
   ]
  },
  {
   "cell_type": "code",
   "execution_count": null,
   "metadata": {
    "colab": {
     "base_uri": "https://localhost:8080/",
     "height": 416
    },
    "id": "_wd0SMFiZQJz",
    "outputId": "b1645a4f-03c2-4148-d469-768d8316e46f",
    "tags": []
   },
   "outputs": [
    {
     "name": "stdout",
     "output_type": "stream",
     "text": [
      "Epoch 1/10\n",
      "437/437 [==============================] - 968s 2s/step - loss: 5.4842 - accuracy: 0.2466 - val_loss: 5.0083 - val_accuracy: 0.2835\n",
      "Epoch 2/10\n",
      "437/437 [==============================] - 938s 2s/step - loss: 4.8476 - accuracy: 0.3015 - val_loss: 4.6247 - val_accuracy: 0.3309\n",
      "Epoch 3/10\n",
      "437/437 [==============================] - 932s 2s/step - loss: 3.9936 - accuracy: 0.3904 - val_loss: 4.3513 - val_accuracy: 0.3735\n",
      "Epoch 5/10\n",
      "437/437 [==============================] - 933s 2s/step - loss: 3.6785 - accuracy: 0.4194 - val_loss: 4.2363 - val_accuracy: 0.3841\n",
      "Epoch 6/10\n",
      "437/437 [==============================] - 931s 2s/step - loss: 3.3845 - accuracy: 0.4490 - val_loss: 4.2537 - val_accuracy: 0.3828\n",
      "Epoch 7/10\n",
      "437/437 [==============================] - 932s 2s/step - loss: 3.1125 - accuracy: 0.4773 - val_loss: 4.2872 - val_accuracy: 0.3838\n",
      "Epoch 8/10\n",
      "437/437 [==============================] - 919s 2s/step - loss: 2.8700 - accuracy: 0.5053 - val_loss: 4.3812 - val_accuracy: 0.3785\n",
      "Epoch 9/10\n",
      "437/437 [==============================] - 909s 2s/step - loss: 2.6539 - accuracy: 0.5307 - val_loss: 4.4951 - val_accuracy: 0.3792\n",
      "Epoch 10/10\n",
      "437/437 [==============================] - 913s 2s/step - loss: 2.4493 - accuracy: 0.5587 - val_loss: 4.5799 - val_accuracy: 0.3705\n"
     ]
    },
    {
     "data": {
      "text/plain": [
       "<keras.src.callbacks.History at 0x7feea4aa2290>"
      ]
     },
     "execution_count": 24,
     "metadata": {},
     "output_type": "execute_result"
    }
   ],
   "source": [
    "transformer.compile(\n",
    "    optimizer=\"rmsprop\",\n",
    "    loss=\"sparse_categorical_crossentropy\",\n",
    "    metrics=[\"accuracy\"])\n",
    "\n",
    "transformer.fit(train_ds, epochs=10, validation_data=val_ds)"
   ]
  },
  {
   "cell_type": "code",
   "execution_count": null,
   "metadata": {},
   "outputs": [],
   "source": []
  },
  {
   "cell_type": "markdown",
   "metadata": {},
   "source": [
    "### Inference :"
   ]
  },
  {
   "cell_type": "code",
   "execution_count": 25,
   "metadata": {
    "colab": {
     "base_uri": "https://localhost:8080/"
    },
    "id": "MaPdhwGbwqna",
    "outputId": "63ff0ef0-ddf7-41cf-a942-7ea10d58c81f",
    "tags": []
   },
   "outputs": [
    {
     "name": "stdout",
     "output_type": "stream",
     "text": [
      "-\n",
      "only after meeting your physiological needs and other needs\n",
      "[start] ही जो हमारे दूसरे होने के बाद और अपनी जरूरत थी [end]\n",
      "-\n",
      "laughter\n",
      "[start] हँसी [end]\n",
      "-\n",
      "but this shows you that the government of uganda\n",
      "[start] लेकिन यह पता चलता है कि सरकार के और सरकार के [end]\n",
      "-\n",
      "of these two enormous disciplines that humanity has\n",
      "[start] दो बहुत सारे आम तौर पर इन दोनों को [end]\n"
     ]
    }
   ],
   "source": [
    "hindi_vocab = target_vectorization.get_vocabulary()\n",
    "hindi_index_lookup = dict(zip(range(len(hindi_vocab)), hindi_vocab))\n",
    "max_decoded_sentence_length = 30\n",
    "\n",
    "def decode_sequence(input_sentence):\n",
    "    tokenized_input_sentence = source_vectorization([input_sentence])\n",
    "    decoded_sentence = \"[start]\"\n",
    "    for i in range(max_decoded_sentence_length):\n",
    "        tokenized_target_sentence = target_vectorization(\n",
    "            [decoded_sentence])[:, :-1]\n",
    "        predictions = transformer(\n",
    "            [tokenized_input_sentence, tokenized_target_sentence])\n",
    "        sampled_token_index = np.argmax(predictions[0, i, :])\n",
    "        sampled_token = hindi_index_lookup[sampled_token_index]\n",
    "        decoded_sentence += \" \" + sampled_token\n",
    "        if sampled_token == \"[end]\":\n",
    "            break\n",
    "    return decoded_sentence\n",
    "\n",
    "test_eng_texts = [pair[0] for pair in test_pairs]\n",
    "for _ in range(4):\n",
    "    input_sentence = random.choice(test_eng_texts)\n",
    "    print(\"-\")\n",
    "    print(input_sentence)\n",
    "    print(decode_sequence(input_sentence))"
   ]
  },
  {
   "cell_type": "code",
   "execution_count": null,
   "metadata": {},
   "outputs": [],
   "source": []
  }
 ],
 "metadata": {
  "colab": {
   "provenance": []
  },
  "kernelspec": {
   "display_name": "conda_tensorflow2_p310",
   "language": "python",
   "name": "conda_tensorflow2_p310"
  },
  "language_info": {
   "codemirror_mode": {
    "name": "ipython",
    "version": 3
   },
   "file_extension": ".py",
   "mimetype": "text/x-python",
   "name": "python",
   "nbconvert_exporter": "python",
   "pygments_lexer": "ipython3",
   "version": "3.10.13"
  }
 },
 "nbformat": 4,
 "nbformat_minor": 4
}
