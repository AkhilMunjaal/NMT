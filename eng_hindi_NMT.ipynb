{
  "cells": [
    {
      "cell_type": "code",
      "execution_count": 1,
      "metadata": {
        "id": "iP15ktLWdtf9"
      },
      "outputs": [
        {
          "name": "stderr",
          "output_type": "stream",
          "text": [
            "2023-12-05 13:02:54.150298: I tensorflow/core/platform/cpu_feature_guard.cc:182] This TensorFlow binary is optimized to use available CPU instructions in performance-critical operations.\n",
            "To enable the following instructions: AVX2 FMA, in other operations, rebuild TensorFlow with the appropriate compiler flags.\n"
          ]
        }
      ],
      "source": [
        "import tensorflow as tf\n",
        "from tensorflow import keras\n",
        "from keras import layers\n",
        "import pandas as pd\n",
        "import string\n",
        "from string import digits\n",
        "import re\n",
        "import numpy as np\n"
      ]
    },
    {
      "cell_type": "code",
      "execution_count": 2,
      "metadata": {
        "id": "O6uaKUEuomX8"
      },
      "outputs": [],
      "source": [
        "from keras.callbacks import EarlyStopping, ModelCheckpoint, TensorBoard\n",
        "\n",
        "callbacks_list = [\n",
        "                  EarlyStopping(monitor=\"val_loss\", patience=3),\n",
        "                  ModelCheckpoint(\"nmt_model_checkpoint\",save_best_only=True),\n",
        "                  TensorBoard(log_dir=\"/tensorboard_files\")\n",
        "                  ]"
      ]
    },
    {
      "cell_type": "code",
      "execution_count": 3,
      "metadata": {
        "id": "YvIzfPtVdtgA"
      },
      "outputs": [],
      "source": [
        "# Using positional encoding to re-inject order information\n",
        "\n",
        "class PositionalEmbedding(layers.Layer):\n",
        "    def __init__(self, sequence_length, input_dim, output_dim, **kwargs):\n",
        "        super().__init__(**kwargs)\n",
        "        self.token_embeddings = layers.Embedding(\n",
        "            input_dim=input_dim, output_dim=output_dim)\n",
        "        self.position_embeddings = layers.Embedding(\n",
        "            input_dim=sequence_length, output_dim=output_dim)\n",
        "        self.sequence_length = sequence_length\n",
        "        self.input_dim = input_dim\n",
        "        self.output_dim = output_dim\n",
        "\n",
        "    def call(self, inputs):\n",
        "        length = tf.shape(inputs)[-1]\n",
        "        positions = tf.range(start=0, limit=length, delta=1)\n",
        "        embedded_tokens = self.token_embeddings(inputs)\n",
        "        embedded_positions = self.position_embeddings(positions)\n",
        "        return embedded_tokens + embedded_positions\n",
        "\n",
        "    def compute_mask(self, inputs, mask=None):\n",
        "        return tf.math.not_equal(inputs, 0)\n",
        "\n",
        "    def get_config(self):\n",
        "        config = super().get_config()\n",
        "        config.update({\n",
        "            \"output_dim\": self.output_dim,\n",
        "            \"sequence_length\": self.sequence_length,\n",
        "            \"input_dim\": self.input_dim,\n",
        "        })\n",
        "        return config"
      ]
    },
    {
      "cell_type": "code",
      "execution_count": 4,
      "metadata": {
        "id": "ChJaSJSvdtgB"
      },
      "outputs": [],
      "source": [
        "class TransformerEncoder(layers.Layer):\n",
        "    def __init__(self, embed_dim, dense_dim, num_heads, **kwargs):\n",
        "        super().__init__(**kwargs)\n",
        "        self.embed_dim = embed_dim\n",
        "        self.dense_dim = dense_dim\n",
        "        self.num_heads = num_heads\n",
        "        self.attention = layers.MultiHeadAttention(\n",
        "            num_heads=num_heads, key_dim=embed_dim)\n",
        "        self.dense_proj = keras.Sequential(\n",
        "            [layers.Dense(dense_dim, activation=\"relu\"),\n",
        "             layers.Dense(embed_dim),]\n",
        "        )\n",
        "        self.layernorm_1 = layers.LayerNormalization()\n",
        "        self.layernorm_2 = layers.LayerNormalization()\n",
        "\n",
        "    def call(self, inputs, mask=None):\n",
        "        if mask is not None:\n",
        "            mask = mask[:, tf.newaxis, :]\n",
        "        attention_output = self.attention(\n",
        "            inputs, inputs, attention_mask=mask)  # Query: inputs, Value: inputs, Keys: Same as Values by default\n",
        "\n",
        "        proj_input = self.layernorm_1(inputs + attention_output)\n",
        "        proj_output = self.dense_proj(proj_input)\n",
        "        return self.layernorm_2(proj_input + proj_output)  # LayerNormalization + Residual connection\n",
        "\n",
        "    def get_config(self):\n",
        "        config = super().get_config()\n",
        "        config.update({\n",
        "            \"embed_dim\": self.embed_dim,\n",
        "            \"num_heads\": self.num_heads,\n",
        "            \"dense_dim\": self.dense_dim,\n",
        "        })\n",
        "        return config"
      ]
    },
    {
      "cell_type": "code",
      "execution_count": 5,
      "metadata": {
        "id": "P3XlEKEydtgC"
      },
      "outputs": [],
      "source": [
        "class TransformerDecoder(layers.Layer):\n",
        "    def __init__(self, embed_dim, dense_dim, num_heads, **kwargs):\n",
        "        super().__init__(**kwargs)\n",
        "        self.embed_dim = embed_dim\n",
        "        self.dense_dim = dense_dim\n",
        "        self.num_heads = num_heads\n",
        "        # 2 MultiHead Attention layers - one for self attention and one for cross attention\n",
        "        self.attention_1 = layers.MultiHeadAttention(\n",
        "            num_heads=num_heads, key_dim=embed_dim)\n",
        "        self.attention_2 = layers.MultiHeadAttention(\n",
        "            num_heads=num_heads, key_dim=embed_dim)\n",
        "        self.dense_proj = keras.Sequential(\n",
        "            [layers.Dense(dense_dim, activation=\"relu\"),\n",
        "             layers.Dense(embed_dim),]\n",
        "        )\n",
        "        self.layernorm_1 = layers.LayerNormalization()\n",
        "        self.layernorm_2 = layers.LayerNormalization()\n",
        "        self.layernorm_3 = layers.LayerNormalization()\n",
        "        self.supports_masking = True #ensures that the layer will propagate its input mask to its outputs;\n",
        "\n",
        "    def get_config(self):\n",
        "        config = super().get_config()\n",
        "        config.update({\n",
        "            \"embed_dim\": self.embed_dim,\n",
        "            \"num_heads\": self.num_heads,\n",
        "            \"dense_dim\": self.dense_dim,\n",
        "        })\n",
        "        return config\n",
        "\n",
        "    def get_causal_attention_mask(self, inputs):\n",
        "        input_shape = tf.shape(inputs)\n",
        "        batch_size, sequence_length = input_shape[0], input_shape[1]\n",
        "        i = tf.range(sequence_length)[:, tf.newaxis]\n",
        "        j = tf.range(sequence_length)\n",
        "        mask = tf.cast(i >= j, dtype=\"int32\")\n",
        "        mask = tf.reshape(mask, (1, input_shape[1], input_shape[1])) # sequence_length == input_shape[1]\n",
        "        mult = tf.concat(\n",
        "            [tf.expand_dims(batch_size, -1),\n",
        "              tf.constant([1, 1], dtype=tf.int32)], axis=0)\n",
        "        return tf.tile(mask, mult)\n",
        "\n",
        "    def call(self, inputs, encoder_outputs, mask_=None): # two inputs: decoder i/p and encoder o/p\n",
        "        causal_mask = self.get_causal_attention_mask(inputs)\n",
        "        attention_output_1 = self.attention_1(\n",
        "            query=inputs,\n",
        "            value=inputs,\n",
        "            key=inputs,\n",
        "            attention_mask=causal_mask)\n",
        "        attention_output_1 = self.layernorm_1(inputs + attention_output_1)\n",
        "        attention_output_2 = self.attention_2(\n",
        "            query=attention_output_1,\n",
        "            value=encoder_outputs,\n",
        "            key=encoder_outputs\n",
        "        )\n",
        "\n",
        "        attention_output_2 = self.layernorm_2(\n",
        "            attention_output_1 + attention_output_2)\n",
        "        proj_output = self.dense_proj(attention_output_2)\n",
        "        return self.layernorm_3(attention_output_2 + proj_output)"
      ]
    },
    {
      "cell_type": "code",
      "execution_count": 6,
      "metadata": {
        "colab": {
          "base_uri": "https://localhost:8080/"
        },
        "id": "dmplozWJdtgC",
        "outputId": "c19ac543-23f2-442e-af1c-a3ccfaa14e82"
      },
      "outputs": [
        {
          "name": "stdout",
          "output_type": "stream",
          "text": [
            "Model: \"model\"\n",
            "__________________________________________________________________________________________________\n",
            " Layer (type)                Output Shape                 Param #   Connected to                  \n",
            "==================================================================================================\n",
            " english (InputLayer)        [(None, None)]               0         []                            \n",
            "                                                                                                  \n",
            " hindi (InputLayer)          [(None, None)]               0         []                            \n",
            "                                                                                                  \n",
            " positional_embedding (Posi  (None, None, 512)            1025689   ['english[0][0]']             \n",
            " tionalEmbedding)                                         6                                       \n",
            "                                                                                                  \n",
            " positional_embedding_1 (Po  (None, None, 512)            1025689   ['hindi[0][0]']               \n",
            " sitionalEmbedding)                                       6                                       \n",
            "                                                                                                  \n",
            " transformer_encoder (Trans  (None, None, 512)            1050316   ['positional_embedding[0][0]']\n",
            " formerEncoder)                                           8                                       \n",
            "                                                                                                  \n",
            " transformer_decoder (Trans  (None, None, 512)            1890560   ['positional_embedding_1[0][0]\n",
            " formerDecoder)                                           0         ',                            \n",
            "                                                                     'transformer_encoder[0][0]'] \n",
            "                                                                                                  \n",
            " dropout (Dropout)           (None, None, 512)            0         ['transformer_decoder[0][0]'] \n",
            "                                                                                                  \n",
            " dense_4 (Dense)             (None, None, 20000)          1026000   ['dropout[0][0]']             \n",
            "                                                          0                                       \n",
            "                                                                                                  \n",
            "==================================================================================================\n",
            "Total params: 60182560 (229.58 MB)\n",
            "Trainable params: 60182560 (229.58 MB)\n",
            "Non-trainable params: 0 (0.00 Byte)\n",
            "__________________________________________________________________________________________________\n"
          ]
        }
      ],
      "source": [
        "embed_dim = 512\n",
        "dense_dim = 2048\n",
        "num_heads = 8\n",
        "vocab_size = 20000\n",
        "sequence_length = 33\n",
        "\n",
        "encoder_inputs = keras.Input(shape=(None,), dtype=\"int64\", name=\"english\")\n",
        "x = PositionalEmbedding(sequence_length, vocab_size, embed_dim)(encoder_inputs)\n",
        "encoder_outputs = TransformerEncoder(embed_dim, dense_dim, num_heads)(x)\n",
        "\n",
        "decoder_inputs = keras.Input(shape=(None,), dtype=\"int64\", name=\"hindi\")\n",
        "x = PositionalEmbedding(sequence_length, vocab_size, embed_dim)(decoder_inputs)\n",
        "x = TransformerDecoder(embed_dim, dense_dim, num_heads)(x, encoder_outputs,mask_=None)\n",
        "\n",
        "x = layers.Dropout(0.5)(x)\n",
        "decoder_outputs = layers.Dense(vocab_size, activation=\"softmax\")(x)\n",
        "transformer = keras.Model([encoder_inputs, decoder_inputs], decoder_outputs)\n",
        "transformer.summary()"
      ]
    },
    {
      "cell_type": "code",
      "execution_count": 6,
      "metadata": {
        "id": "W6wAqvL5dtgD"
      },
      "outputs": [],
      "source": []
    },
    {
      "cell_type": "markdown",
      "metadata": {
        "id": "B0Y2NmDV7lF6"
      },
      "source": [
        "## Preparing the data"
      ]
    },
    {
      "cell_type": "code",
      "execution_count": 7,
      "metadata": {
        "id": "x1PS3pHxdtgF"
      },
      "outputs": [],
      "source": [
        "# df = pd.read_csv(\"Hindi_English_Truncated_Corpus.csv\",encoding='utf-8')\n",
        "import pandas as pd\n",
        "url='https://drive.google.com/file/d/1EDHFfGBfuYza19mGdTaIpmcscKP3x-48/view?usp=sharing'\n",
        "url='https://drive.google.com/uc?id=' + url.split('/')[-2]\n",
        "df = pd.read_csv(url)"
      ]
    },
    {
      "cell_type": "code",
      "execution_count": 8,
      "metadata": {
        "colab": {
          "base_uri": "https://localhost:8080/"
        },
        "id": "cXkHSsgriOHq",
        "outputId": "25257650-a757-43bb-d8bb-4097af5211ee"
      },
      "outputs": [
        {
          "data": {
            "text/plain": [
              "(127607, 3)"
            ]
          },
          "execution_count": 8,
          "metadata": {},
          "output_type": "execute_result"
        }
      ],
      "source": [
        "df.shape"
      ]
    },
    {
      "cell_type": "code",
      "execution_count": 9,
      "metadata": {
        "id": "ZKC-g9YldtgF"
      },
      "outputs": [],
      "source": [
        "df.dropna(inplace=True)"
      ]
    },
    {
      "cell_type": "code",
      "execution_count": 10,
      "metadata": {
        "id": "0lbBL-o1dtgG"
      },
      "outputs": [],
      "source": [
        "def clean_dataset_rows(df):\n",
        "    df['english_sentence'] = df['english_sentence'].apply(lambda x: x.lower())\n",
        "    df['hindi_sentence'] = df['hindi_sentence'].apply(lambda x: x.lower())\n",
        "\n",
        "    exclude = set(string.punctuation)\n",
        "    df['english_sentence'] = df['english_sentence'].apply(lambda x: ''.join(ch for ch in x if ch not in exclude))\n",
        "    df['hindi_sentence'] = df['hindi_sentence'].apply(lambda x: ''.join(ch for ch in x if ch not in exclude))\n",
        "\n",
        "    remove_digits = str.maketrans('', '', digits)\n",
        "    df['english_sentence'] = df['english_sentence'].apply(lambda x: x.translate(remove_digits))\n",
        "    df['hindi_sentence'] = df['hindi_sentence'].apply(lambda x: x.translate(remove_digits))\n",
        "    df['hindi_sentence'] = df['hindi_sentence'].apply(lambda x: re.sub(\"[२३०८१५७९४६]\", \"\", x))\n",
        "\n",
        "    df['english_sentence'] = df['english_sentence'].apply(lambda x: x.strip())\n",
        "    df['hindi_sentence'] = df['hindi_sentence'].apply(lambda x: x.strip())\n",
        "    \n",
        "    df['length_eng_sentence']=df['english_sentence'].apply(lambda x:len(x.split(\" \")))\n",
        "    df['length_hin_sentence']=df['hindi_sentence'].apply(lambda x:len(x.split(\" \")))\n",
        "    return df"
      ]
    },
    {
      "cell_type": "code",
      "execution_count": 11,
      "metadata": {},
      "outputs": [],
      "source": [
        "df = clean_dataset_rows(df)"
      ]
    },
    {
      "cell_type": "code",
      "execution_count": 12,
      "metadata": {
        "id": "97_IeaZ1dtgG"
      },
      "outputs": [],
      "source": [
        "df=df[df['source']=='ted'] # other sources have higher sequence length ~ 200-400\n"
      ]
    },
    {
      "cell_type": "code",
      "execution_count": 15,
      "metadata": {
        "colab": {
          "base_uri": "https://localhost:8080/"
        },
        "id": "Nxxtnbv9D2-u",
        "outputId": "fa352e03-140a-4732-9650-236149887cd1"
      },
      "outputs": [
        {
          "name": "stdout",
          "output_type": "stream",
          "text": [
            "('and instead of bringing them to the police station', '[start] उन्हें पुलिस स्टेशन ले जाने के बजाय [end]')\n",
            "no. of pairs: 39881\n"
          ]
        }
      ],
      "source": [
        "text_pairs = []\n",
        "for _, row in df.iterrows():\n",
        "    english = row['english_sentence']\n",
        "    hindi = row['hindi_sentence']\n",
        "    hindi = \"[start] \" + hindi + \" [end]\"\n",
        "    text_pairs.append((english, hindi))\n",
        "\n",
        "import random\n",
        "print(random.choice(text_pairs))\n",
        "print(f\"no. of pairs: {len(text_pairs)}\")"
      ]
    },
    {
      "cell_type": "code",
      "execution_count": 16,
      "metadata": {
        "id": "mcybUiQTD3Az"
      },
      "outputs": [],
      "source": [
        "#splitting data\n",
        "random.shuffle(text_pairs)\n",
        "num_val_samples = int(0.15 * len(text_pairs))\n",
        "num_train_samples = len(text_pairs) - 2 * num_val_samples\n",
        "train_pairs = text_pairs[:num_train_samples]\n",
        "val_pairs = text_pairs[num_train_samples:num_train_samples + num_val_samples]\n",
        "test_pairs = text_pairs[num_train_samples + num_val_samples:]"
      ]
    },
    {
      "cell_type": "code",
      "execution_count": 14,
      "metadata": {
        "colab": {
          "base_uri": "https://localhost:8080/"
        },
        "id": "hj9HjcGE7h4N",
        "outputId": "362afa08-afaf-4e99-aa82-4dbbdc6fef5b"
      },
      "outputs": [
        {
          "name": "stdout",
          "output_type": "stream",
          "text": [
            "!\"#$%&'()*+,-./:;<=>?@[\\]^_`{|}~\n"
          ]
        }
      ],
      "source": [
        "print(string.punctuation)"
      ]
    },
    {
      "cell_type": "code",
      "execution_count": 17,
      "metadata": {
        "id": "kBc6EItWD3C3"
      },
      "outputs": [],
      "source": [
        "# Vectorizing the English and Hindi text pairs\n",
        "\n",
        "strip_chars = string.punctuation\n",
        "strip_chars = strip_chars.replace(\"[\", \"\")\n",
        "strip_chars = strip_chars.replace(\"]\", \"\")\n",
        "\n",
        "# Custom standardization function for hindi\n",
        "def custom_standardization(input_string):\n",
        "    # lowercase = tf.strings.lower(input_string)\n",
        "    # Replace elements of input matching regex pattern with rewrite.\n",
        "    return tf.strings.regex_replace(input_string, f\"[{re.escape(strip_chars)}]\", \"\")\n",
        "\n",
        "\n",
        "source_vectorization = layers.TextVectorization(\n",
        "    max_tokens=vocab_size,\n",
        "    output_mode=\"int\",\n",
        "    output_sequence_length=sequence_length,\n",
        ")\n",
        "target_vectorization = layers.TextVectorization(\n",
        "    max_tokens=vocab_size,\n",
        "    output_mode=\"int\",\n",
        "    output_sequence_length=sequence_length + 1,\n",
        "    standardize=custom_standardization,\n",
        ")\n",
        "train_english_texts = [pair[0] for pair in train_pairs]\n",
        "train_hindi_texts = [pair[1] for pair in train_pairs]\n",
        "source_vectorization.adapt(train_english_texts)\n",
        "target_vectorization.adapt(train_hindi_texts)\n"
      ]
    },
    {
      "cell_type": "code",
      "execution_count": 20,
      "metadata": {
        "id": "JMicSLvGD3E_"
      },
      "outputs": [],
      "source": [
        "\n",
        "batch_size = 64\n",
        "\n",
        "def format_dataset(eng, hindi):\n",
        "    eng = source_vectorization(eng)\n",
        "    hindi = target_vectorization(hindi)\n",
        "    return ({\n",
        "        \"english\": eng,           # encoder input\n",
        "        \"hindi\": hindi[:, :-1],   # decoder input - take all batches, and length 0 to -1 (one less than input sentence)\n",
        "    }, hindi[:, 1:])              # decoder ouput - all batches, 1 shifted indices\n",
        "\n",
        "def make_dataset(pairs):\n",
        "    eng_texts, hindi_texts = zip(*pairs)\n",
        "    eng_texts = list(eng_texts)\n",
        "    hindi_texts = list(hindi_texts)\n",
        "    dataset = tf.data.Dataset.from_tensor_slices((eng_texts, hindi_texts))\n",
        "    dataset = dataset.batch(batch_size)\n",
        "    dataset = dataset.map(format_dataset, num_parallel_calls=4)\n",
        "    return dataset\n",
        "    # return dataset.shuffle(2048).prefetch(16).cache() #Use in-memory caching to speed up preprocessing.\n",
        "\n",
        "train_ds = make_dataset(train_pairs)\n",
        "val_ds = make_dataset(val_pairs)"
      ]
    },
    {
      "cell_type": "code",
      "execution_count": 21,
      "metadata": {
        "colab": {
          "base_uri": "https://localhost:8080/"
        },
        "id": "4A2wVFs8Epoy",
        "outputId": "eaac6d6b-067c-4fed-e964-77ed39272bab"
      },
      "outputs": [
        {
          "name": "stdout",
          "output_type": "stream",
          "text": [
            "inputs['english'].shape: (64, 33)\n",
            "inputs['hindi'].shape: (64, 33)\n",
            "targets.shape: (64, 33)\n",
            "tf.Tensor(\n",
            "[   5 8167  729  483  112    3    0    0    0    0    0    0    0    0\n",
            "    0    0    0    0    0    0    0    0    0    0    0    0    0    0\n",
            "    0    0    0    0    0], shape=(33,), dtype=int64)\n",
            "tf.Tensor(\n",
            "[   3 5262 2537 2148    8  197    0    0    0    0    0    0    0    0\n",
            "    0    0    0    0    0    0    0    0    0    0    0    0    0    0\n",
            "    0    0    0    0    0], shape=(33,), dtype=int64)\n"
          ]
        }
      ],
      "source": [
        "for inputs, targets in train_ds.take(1):\n",
        "    print(f\"inputs['english'].shape: {inputs['english'].shape}\")\n",
        "    print(f\"inputs['hindi'].shape: {inputs['hindi'].shape}\")\n",
        "    print(f\"targets.shape: {targets.shape}\")\n",
        "    print(targets[3])\n",
        "    print(inputs['english'][3])"
      ]
    },
    {
      "cell_type": "markdown",
      "metadata": {
        "id": "54BdC0gg7pQS"
      },
      "source": [
        "## Traning and evaluating the model"
      ]
    },
    {
      "cell_type": "code",
      "execution_count": 21,
      "metadata": {
        "colab": {
          "base_uri": "https://localhost:8080/"
        },
        "id": "_wd0SMFiZQJz",
        "outputId": "cd604dad-f8d1-4b53-cd28-3e9872136c8c"
      },
      "outputs": [
        {
          "name": "stdout",
          "output_type": "stream",
          "text": [
            "Epoch 1/25\n",
            "437/437 [==============================] - 188s 417ms/step - loss: 4.9044 - accuracy: 0.2797 - val_loss: 4.9096 - val_accuracy: 0.2789\n",
            "Epoch 2/25\n",
            "437/437 [==============================] - 180s 412ms/step - loss: 4.7134 - accuracy: 0.2921 - val_loss: 4.8360 - val_accuracy: 0.2907\n",
            "Epoch 3/25\n",
            "437/437 [==============================] - 180s 412ms/step - loss: 4.5586 - accuracy: 0.3069 - val_loss: 4.7561 - val_accuracy: 0.3073\n",
            "Epoch 4/25\n",
            "437/437 [==============================] - 180s 412ms/step - loss: 4.3835 - accuracy: 0.3235 - val_loss: 4.6857 - val_accuracy: 0.3150\n",
            "Epoch 5/25\n",
            "437/437 [==============================] - 180s 412ms/step - loss: 4.1939 - accuracy: 0.3405 - val_loss: 4.6333 - val_accuracy: 0.3254\n",
            "Epoch 6/25\n",
            "437/437 [==============================] - 180s 412ms/step - loss: 3.9724 - accuracy: 0.3595 - val_loss: 4.5585 - val_accuracy: 0.3369\n",
            "Epoch 7/25\n",
            "437/437 [==============================] - 180s 412ms/step - loss: 3.6956 - accuracy: 0.3839 - val_loss: 4.4860 - val_accuracy: 0.3458\n",
            "Epoch 8/25\n",
            "437/437 [==============================] - 172s 393ms/step - loss: 3.3630 - accuracy: 0.4154 - val_loss: 4.4984 - val_accuracy: 0.3563\n",
            "Epoch 9/25\n",
            "437/437 [==============================] - 183s 418ms/step - loss: 2.9967 - accuracy: 0.4519 - val_loss: 4.4659 - val_accuracy: 0.3621\n",
            "Epoch 10/25\n",
            "437/437 [==============================] - 172s 394ms/step - loss: 2.6076 - accuracy: 0.4957 - val_loss: 4.5751 - val_accuracy: 0.3578\n",
            "Epoch 11/25\n",
            "437/437 [==============================] - 172s 393ms/step - loss: 2.2205 - accuracy: 0.5449 - val_loss: 4.7684 - val_accuracy: 0.3437\n",
            "Epoch 12/25\n",
            "437/437 [==============================] - 172s 393ms/step - loss: 1.8460 - accuracy: 0.6012 - val_loss: 5.0083 - val_accuracy: 0.3502\n"
          ]
        },
        {
          "data": {
            "text/plain": [
              "<keras.src.callbacks.History at 0x7e4566976680>"
            ]
          },
          "execution_count": 21,
          "metadata": {},
          "output_type": "execute_result"
        }
      ],
      "source": [
        "transformer.compile(\n",
        "    optimizer=\"rmsprop\",\n",
        "    loss=\"sparse_categorical_crossentropy\",\n",
        "    metrics=[\"accuracy\"])\n",
        "\n",
        "transformer.fit(train_ds, epochs=25, validation_data=val_ds, callbacks=callbacks_list)"
      ]
    },
    {
      "cell_type": "code",
      "execution_count": 28,
      "metadata": {
        "colab": {
          "base_uri": "https://localhost:8080/"
        },
        "id": "MaPdhwGbwqna",
        "outputId": "1fed1721-8805-4bae-c4e2-4bdb2e627d8b",
        "scrolled": false
      },
      "outputs": [
        {
          "name": "stdout",
          "output_type": "stream",
          "text": [
            "-\n",
            "dont believe a word of it\n",
            "[start] आप में से विश्वास नहीं करते हैं [end]\n",
            "-\n",
            "of over  prisoners\n",
            "[start] ब्रुकलिन के आसपास थे [end]\n",
            "-\n",
            "and second of all\n",
            "[start] और दूसरा समूह [end]\n",
            "-\n",
            "and thats true\n",
            "[start] और यह सच है [end]\n"
          ]
        }
      ],
      "source": [
        "hindi_vocab = target_vectorization.get_vocabulary()\n",
        "hindi_index_lookup = dict(zip(range(len(hindi_vocab)), hindi_vocab))\n",
        "max_decoded_sentence_length = 30\n",
        "\n",
        "def decode_sequence(input_sentence):\n",
        "    tokenized_input_sentence = source_vectorization([input_sentence])\n",
        "    decoded_sentence = \"[start]\"\n",
        "    for i in range(max_decoded_sentence_length):\n",
        "        tokenized_target_sentence = target_vectorization(\n",
        "            [decoded_sentence])[:, :-1]\n",
        "        predictions = transformer(\n",
        "            [tokenized_input_sentence, tokenized_target_sentence])\n",
        "        sampled_token_index = np.argmax(predictions[0, i, :])\n",
        "        sampled_token = hindi_index_lookup[sampled_token_index]\n",
        "        decoded_sentence += \" \" + sampled_token\n",
        "        if sampled_token == \"[end]\":\n",
        "            break\n",
        "    return decoded_sentence\n",
        "\n",
        "test_eng_texts = [pair[0] for pair in test_pairs]\n",
        "for _ in range(4):\n",
        "    input_sentence = random.choice(test_eng_texts)\n",
        "    print(\"-\")\n",
        "    print(input_sentence)\n",
        "    print(decode_sequence(input_sentence))"
      ]
    },
    {
      "cell_type": "markdown",
      "metadata": {},
      "source": [
        "### Inference from saved model :"
      ]
    },
    {
      "cell_type": "code",
      "execution_count": null,
      "metadata": {
        "id": "N-TCnMN0dtgJ"
      },
      "outputs": [],
      "source": [
        "with keras.utils.custom_object_scope({'PositionalEmbedding': PositionalEmbedding,\n",
        "                                     'TransformerEncoder':TransformerEncoder,\n",
        "                                     'TransformerDecoder':TransformerDecoder}):\n",
        "    loaded_model = keras.models.load_model(\"NMT_model.h5\")\n",
        "\n",
        "\n",
        "def get_predictions(input_sentence):\n",
        "    tokenized_input_sentence = source_vectorization([input_sentence])\n",
        "    decoded_sentence = \"[start]\"\n",
        "    \n",
        "    for i in range(max_decoded_sentence_length):\n",
        "        tokenized_target_sentence = target_vectorization([decoded_sentence])[:, :-1]\n",
        "        predictions = loaded_model.predict([tokenized_input_sentence, tokenized_target_sentence])\n",
        "        sampled_token_index = np.argmax(predictions[0, i, :])\n",
        "        sampled_token = hindi_index_lookup[sampled_token_index]   \n",
        "        decoded_sentence += \" \" + sampled_token\n",
        "        if sampled_token == \"[end]\":\n",
        "            break\n",
        "    \n",
        "    return decoded_sentence\n"
      ]
    },
    {
      "cell_type": "code",
      "execution_count": null,
      "metadata": {},
      "outputs": [],
      "source": [
        "input_sentence = \"and you know what its just the beginning\"\n",
        "output_sequence = get_predictions(input_sentence)\n",
        "print(\"Generated Sequence:\", output_sequence)\n"
      ]
    }
  ],
  "metadata": {
    "accelerator": "GPU",
    "colab": {
      "gpuType": "T4",
      "provenance": []
    },
    "kernelspec": {
      "display_name": "Python 3",
      "name": "python3"
    },
    "language_info": {
      "codemirror_mode": {
        "name": "ipython",
        "version": 3
      },
      "file_extension": ".py",
      "mimetype": "text/x-python",
      "name": "python",
      "nbconvert_exporter": "python",
      "pygments_lexer": "ipython3",
      "version": "3.8.8"
    }
  },
  "nbformat": 4,
  "nbformat_minor": 0
}
